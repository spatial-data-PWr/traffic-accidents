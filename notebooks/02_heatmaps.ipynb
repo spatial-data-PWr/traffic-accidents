{
 "cells": [
  {
   "cell_type": "code",
   "execution_count": 1,
   "id": "698840aa",
   "metadata": {},
   "outputs": [],
   "source": [
    "import sys\n",
    "import json\n",
    "import folium\n",
    "import pandas as pd\n",
    "import numpy as np\n",
    "import pickle as pkl\n",
    "\n",
    "from pyproj import Transformer\n",
    "from shapely.geometry import shape, Point\n",
    "\n",
    "sys.path.append('..')\n",
    "\n",
    "from src import STORAGE_PATH\n",
    "from src.visualization import convert_dict_list_to_counts_dataframe, create_smooth_choropleth_layers"
   ]
  },
  {
   "cell_type": "markdown",
   "id": "6b17f340",
   "metadata": {},
   "source": [
    "### Load data"
   ]
  },
  {
   "cell_type": "code",
   "execution_count": 2,
   "id": "eba891dc",
   "metadata": {},
   "outputs": [],
   "source": [
    "DATA_DIRECTORY = STORAGE_PATH / 'graphs'\n",
    "\n",
    "with open(DATA_DIRECTORY / 'bike_accidents_graph.pkl', 'rb') as f:\n",
    "    bike_accidents_graph = pkl.load(f)\n",
    "\n",
    "with open(DATA_DIRECTORY / 'nonbike_accidents_graph.pkl', 'rb') as f:\n",
    "    nonbike_accidents_graph = pkl.load(f)"
   ]
  },
  {
   "cell_type": "code",
   "execution_count": 3,
   "id": "02365d05",
   "metadata": {},
   "outputs": [],
   "source": [
    "with open(STORAGE_PATH / 'maps' / 'wroclaw-max.geojson', 'r') as f:\n",
    "    wroclaw_map = json.load(f)"
   ]
  },
  {
   "cell_type": "markdown",
   "id": "dcef6bd3",
   "metadata": {},
   "source": [
    "### Map accidents to regions"
   ]
  },
  {
   "cell_type": "code",
   "execution_count": null,
   "id": "d3469ae7",
   "metadata": {},
   "outputs": [],
   "source": [
    "regions_accidents = {'bike' : {}, 'nonbike' : {}}\n",
    "graphs = {'bike' : bike_accidents_graph, 'nonbike' : nonbike_accidents_graph}\n",
    "\n",
    "for feature in wroclaw_map['features']:\n",
    "    for acc_type in regions_accidents:\n",
    "        regions_accidents[acc_type][feature['properties']['osiedle']] = []\n",
    "\n",
    "in_proj = 'epsg:2177'\n",
    "out_proj = 'epsg:4326'\n",
    "transformer = Transformer.from_crs(in_proj, out_proj)\n",
    "        \n",
    "for acc_type in graphs:\n",
    "    for node in graphs[acc_type]:\n",
    "        node_t = transformer.transform(node[1], node[0])\n",
    "        point = Point(node_t[1], node_t[0])\n",
    "        point_in_any = False\n",
    "        for feature in wroclaw_map['features']:\n",
    "            polygon = shape(feature['geometry'])\n",
    "            if polygon.contains(point):\n",
    "                regions_accidents[acc_type][feature['properties']['osiedle']].append(node)\n",
    "                break"
   ]
  },
  {
   "cell_type": "markdown",
   "id": "00b168a0",
   "metadata": {},
   "source": [
    "### Maps per accident type"
   ]
  },
  {
   "cell_type": "code",
   "execution_count": null,
   "id": "54f34a8f",
   "metadata": {},
   "outputs": [],
   "source": [
    "folium_maps = []\n",
    "for acc_type in regions_accidents:\n",
    "    folium_map = folium.Map(location=[51.1, 17], zoom_start=9)\n",
    "    choropleth_df = pd.DataFrame(convert_dict_list_to_counts_dataframe(regions_accidents[acc_type]))\n",
    "    folium.Choropleth(\n",
    "        geo_data=wroclaw_map,\n",
    "        data=choropleth_df,\n",
    "        columns=['names', 'counts'],\n",
    "        name=\"choropleth\",\n",
    "        key_on='properties.osiedle',\n",
    "        fill_color=\"Reds\",\n",
    "        bins=9,\n",
    "        fill_opacity=0.7,\n",
    "        line_opacity=0.2,\n",
    "        legend_name=f\"Heatmap of {acc_type} accidents\",\n",
    "    ).add_to(folium_map)\n",
    "    folium_maps.append(folium_map)"
   ]
  },
  {
   "cell_type": "code",
   "execution_count": null,
   "id": "991f671a",
   "metadata": {},
   "outputs": [],
   "source": [
    "folium_maps[0]"
   ]
  },
  {
   "cell_type": "code",
   "execution_count": null,
   "id": "665bb067",
   "metadata": {},
   "outputs": [],
   "source": [
    "folium_maps[1]"
   ]
  },
  {
   "cell_type": "markdown",
   "id": "30390f5e",
   "metadata": {},
   "source": [
    "### Normalized difference"
   ]
  },
  {
   "cell_type": "code",
   "execution_count": null,
   "id": "1f7914c6",
   "metadata": {},
   "outputs": [],
   "source": [
    "choropleth_df = pd.DataFrame(convert_dict_list_to_counts_dataframe(regions_accidents['bike'])).sort_values('names')\n",
    "choropleth_df['nonbike_counts'] = pd.DataFrame(convert_dict_list_to_counts_dataframe(regions_accidents['nonbike'])).sort_values('names')['counts']\n",
    "avg_multiplier = choropleth_df['counts'].sum() / choropleth_df['nonbike_counts'].sum()\n",
    "choropleth_df['predbike_counts'] = choropleth_df['nonbike_counts'] * avg_multiplier\n",
    "choropleth_df['diffs'] = choropleth_df['counts'] / choropleth_df['predbike_counts']"
   ]
  },
  {
   "cell_type": "code",
   "execution_count": null,
   "id": "c21f4574",
   "metadata": {
    "scrolled": true
   },
   "outputs": [],
   "source": [
    "\n",
    "folium_map = folium.Map(location=[51.1, 17], zoom_start=9)\n",
    "bins = np.array(range(9)) * max(choropleth_df['diffs'].max(), -choropleth_df['diffs'].min()) / 8\n",
    "folium.Choropleth(\n",
    "            geo_data=wroclaw_map,\n",
    "            data=choropleth_df,\n",
    "            columns=['names', 'diffs'],\n",
    "            name=\"choropleth\",\n",
    "            key_on='properties.osiedle',\n",
    "            fill_color=\"BuPu\",\n",
    "            bins=bins,\n",
    "            fill_opacity=0.7,\n",
    "            line_opacity=0.2,\n",
    "            legend_name=f\"Heatmap of {acc_type} accidents\",\n",
    ").add_to(folium_map)\n",
    "folium_map"
   ]
  },
  {
   "cell_type": "code",
   "execution_count": null,
   "id": "01cc63c8",
   "metadata": {
    "scrolled": false
   },
   "outputs": [],
   "source": [
    "folium_map = folium.Map(location=[51.1, 17], zoom_start=9)\n",
    "for layer in create_smooth_choropleth_layers(choropleth_df, 'names', 'diffs', wroclaw_map, lambda k: k['properties']['osiedle'], '#4040FF', '#FF4040', mid_color='#FFFFFF', force_mid=1):\n",
    "    layer.add_to(folium_map)\n",
    "folium_map"
   ]
  },
  {
   "cell_type": "code",
   "execution_count": null,
   "id": "b389d721",
   "metadata": {},
   "outputs": [],
   "source": []
  }
 ],
 "metadata": {
  "kernelspec": {
   "display_name": "3.9.9",
   "language": "python",
   "name": "3.9.9"
  },
  "language_info": {
   "codemirror_mode": {
    "name": "ipython",
    "version": 3
   },
   "file_extension": ".py",
   "mimetype": "text/x-python",
   "name": "python",
   "nbconvert_exporter": "python",
   "pygments_lexer": "ipython3",
   "version": "3.9.9"
  }
 },
 "nbformat": 4,
 "nbformat_minor": 5
}
